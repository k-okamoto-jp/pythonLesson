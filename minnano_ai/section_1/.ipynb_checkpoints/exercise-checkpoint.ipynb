{
 "cells": [
  {
   "cell_type": "markdown",
   "metadata": {
    "colab_type": "text",
    "id": "view-in-github"
   },
   "source": [
    "<a href=\"https://colab.research.google.com/github/yukinaga/minnano_ai/blob/master/section_1/exercise.ipynb\" target=\"_parent\"><img src=\"https://colab.research.google.com/assets/colab-badge.svg\" alt=\"Open In Colab\"/></a>"
   ]
  },
  {
   "cell_type": "markdown",
   "metadata": {
    "colab_type": "text",
    "id": "z8g5FUr1BPri"
   },
   "source": [
    "# 演習\n",
    "Pythonを学ぶ前に、Google Colaboratoryの使い方に慣れておきましょう。  \n",
    "このノートブックで、以下のセルの操作を行ってみましょう。  \n",
    "\n",
    "* コードセルの作成\n",
    "* コードセルにPythonのコードを記述し、「Hello World!」と表示\n",
    "* コードセルに足し算のコードを記述し、結果を表示\n",
    "* テキストセルの作成\n",
    "* テキストセルに文章を記述\n",
    "* テキストセルで文章を改行\n",
    "* テキストセルにリストを記述\n",
    "* セルの上下の入れ替え\n",
    "* セルの消去"
   ]
  }
 ],
 "metadata": {
  "colab": {
   "authorship_tag": "ABX9TyNnIsAet1gqMa9UgqryoJf3",
   "collapsed_sections": [],
   "include_colab_link": true,
   "name": "exercise.ipynb",
   "provenance": []
  },
  "kernelspec": {
   "display_name": "Python 3",
   "language": "python",
   "name": "python3"
  },
  "language_info": {
   "codemirror_mode": {
    "name": "ipython",
    "version": 3
   },
   "file_extension": ".py",
   "mimetype": "text/x-python",
   "name": "python",
   "nbconvert_exporter": "python",
   "pygments_lexer": "ipython3",
   "version": "3.8.5"
  }
 },
 "nbformat": 4,
 "nbformat_minor": 1
}

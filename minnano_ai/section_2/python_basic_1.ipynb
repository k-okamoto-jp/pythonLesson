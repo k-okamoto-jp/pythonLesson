{
 "cells": [
  {
   "cell_type": "markdown",
   "metadata": {
    "colab_type": "text",
    "id": "view-in-github"
   },
   "source": [
    "<a href=\"https://colab.research.google.com/github/yukinaga/minnano_ai/blob/master/section_2/python_basic_1.ipynb\" target=\"_parent\"><img src=\"https://colab.research.google.com/assets/colab-badge.svg\" alt=\"Open In Colab\"/></a>"
   ]
  },
  {
   "cell_type": "markdown",
   "metadata": {
    "colab_type": "text",
    "id": "QK1qtAbx7DCH"
   },
   "source": [
    "# Pythonの基礎1\n",
    " プログラミング言語Pythonの文法を、手を動かしながら少しずつ学んでいきましょう。  \n",
    "解説用のコードセルの下に練習用のコードセルがありますので、コードを書く体験とともに進めていくことをお勧めします。  \n",
    "なお、今回の解説がPythonの全てをカバーしているわけではありませんのでご注意ください。"
   ]
  },
  {
   "cell_type": "markdown",
   "metadata": {
    "colab_type": "text",
    "id": "vShhk5xk7L6w"
   },
   "source": [
    "## ● 変数\n",
    "**変数**には**値**を入れることができます。  \n",
    "以下の例では、変数`a`に123という値を入れています。  \n",
    "`print(a)`で、変数`a`に入った値を表示することができます。"
   ]
  },
  {
   "cell_type": "code",
   "execution_count": 1,
   "metadata": {
    "colab": {},
    "colab_type": "code",
    "id": "h7HH2NJB7DCJ"
   },
   "outputs": [
    {
     "name": "stdout",
     "output_type": "stream",
     "text": [
      "123\n"
     ]
    }
   ],
   "source": [
    "a = 123\n",
    "print(a)"
   ]
  },
  {
   "cell_type": "code",
   "execution_count": null,
   "metadata": {
    "colab": {},
    "colab_type": "code",
    "id": "G2cA1xc4CZ8_"
   },
   "outputs": [],
   "source": [
    "# 練習用\n"
   ]
  },
  {
   "cell_type": "markdown",
   "metadata": {
    "colab_type": "text",
    "id": "PZg4iHpxnAyC"
   },
   "source": [
    "なお、`#`以降の記述はコメントとなり、プログラムとして認識されません。メモなどに活用しましょう。  \n",
    "変数には小数の値を入れることもできます。  \n",
    "以下では、`b`に123.45という小数の値を入れています。  "
   ]
  },
  {
   "cell_type": "code",
   "execution_count": null,
   "metadata": {
    "colab": {},
    "colab_type": "code",
    "id": "6566lYEEsNJh"
   },
   "outputs": [],
   "source": [
    "b = 123.45\n",
    "print(b)"
   ]
  },
  {
   "cell_type": "code",
   "execution_count": null,
   "metadata": {
    "colab": {},
    "colab_type": "code",
    "id": "bgMti6leFZn9"
   },
   "outputs": [],
   "source": [
    "# 練習用\n"
   ]
  },
  {
   "cell_type": "markdown",
   "metadata": {
    "colab_type": "text",
    "id": "extlg0l1rx2z"
   },
   "source": [
    "変数には文章を入れることもできます。  \n",
    "`\"\"`もしくは`''` で囲まれた文章は文字列として認識され、値として変数に入れることができます。  \n"
   ]
  },
  {
   "cell_type": "code",
   "execution_count": null,
   "metadata": {
    "colab": {},
    "colab_type": "code",
    "id": "yMwbxO3GLIC6"
   },
   "outputs": [],
   "source": [
    "c = \"こんにちは、Python！\"\n",
    "print(c)"
   ]
  },
  {
   "cell_type": "code",
   "execution_count": null,
   "metadata": {
    "colab": {},
    "colab_type": "code",
    "id": "p3DojhtkLUYK"
   },
   "outputs": [],
   "source": [
    "# 練習用\n"
   ]
  },
  {
   "cell_type": "markdown",
   "metadata": {
    "colab_type": "text",
    "id": "WteivqoSJxEu"
   },
   "source": [
    "変数名には、アルファベットの他に`_`（アンダーバー）や数字を使うこともできます。  \n",
    "ただし、変数名の先頭を数字にすることはできません。  "
   ]
  },
  {
   "cell_type": "code",
   "execution_count": 2,
   "metadata": {
    "colab": {},
    "colab_type": "code",
    "id": "9-dHbPsYJ_jS"
   },
   "outputs": [
    {
     "name": "stdout",
     "output_type": "stream",
     "text": [
      "Pochi\n",
      "321\n"
     ]
    }
   ],
   "source": [
    "dog_name = \"Pochi\"\n",
    "print(dog_name)\n",
    "\n",
    "number321 = 321\n",
    "print(number321)"
   ]
  },
  {
   "cell_type": "code",
   "execution_count": null,
   "metadata": {
    "colab": {},
    "colab_type": "code",
    "id": "HYh2U2NKM_GY"
   },
   "outputs": [],
   "source": [
    "# 練習用\n"
   ]
  },
  {
   "cell_type": "markdown",
   "metadata": {
    "colab_type": "text",
    "id": "jd_BuH8D7DCM"
   },
   "source": [
    "このような変数の概念は、以降Pythonを学んでいくための基盤となります。"
   ]
  },
  {
   "cell_type": "markdown",
   "metadata": {
    "colab_type": "text",
    "id": "AioPKJ3q7DCU"
   },
   "source": [
    "## ● 四則演算\n",
    "様々な演算子を使って四則演算を行うことができます。"
   ]
  },
  {
   "cell_type": "code",
   "execution_count": null,
   "metadata": {
    "colab": {},
    "colab_type": "code",
    "id": "hYmGSfid7DCU"
   },
   "outputs": [],
   "source": [
    "a = 7\n",
    "b = 3\n",
    "\n",
    "c = a + b  # 足し算\n",
    "print(c)\n",
    "\n",
    "d = a - b  # 引き算\n",
    "print(d)\n",
    "\n",
    "e = a * b  # 掛け算\n",
    "print(e)\n",
    "\n",
    "f = a / b  # 割り算（小数）\n",
    "print(f)\n",
    "\n",
    "g = a // b  # 割り算（整数）\n",
    "print(g)\n",
    "\n",
    "h = a % b  # 余り\n",
    "print(h)"
   ]
  },
  {
   "cell_type": "code",
   "execution_count": null,
   "metadata": {
    "colab": {},
    "colab_type": "code",
    "id": "QmgKAo4dNlA_"
   },
   "outputs": [],
   "source": [
    "# 練習用\n"
   ]
  },
  {
   "cell_type": "markdown",
   "metadata": {
    "colab_type": "text",
    "id": "D4BOaxpW7DCW"
   },
   "source": [
    "上記で使用した演算子を以下にまとめます。\n",
    "\n",
    "||||\n",
    "|:-:|:-:|:--|\n",
    "|| \\+ | 足し算 |\n",
    "||- | 引き算 |\n",
    "|| * | かける |\n",
    "|| / | 割る（小数） |\n",
    "|| // | 割る（整数） |\n",
    "|| % | 余り |\n",
    "||||\n",
    "\n",
    "なお、`+`の演算子は文字列の結合に使うこともできます。"
   ]
  },
  {
   "cell_type": "code",
   "execution_count": null,
   "metadata": {
    "colab": {},
    "colab_type": "code",
    "id": "tPQ7XddGQRg1"
   },
   "outputs": [],
   "source": [
    "a = \"Hello\"\n",
    "b = \"World\"\n",
    "\n",
    "c = a + b\n",
    "print(c)"
   ]
  },
  {
   "cell_type": "code",
   "execution_count": null,
   "metadata": {
    "colab": {},
    "colab_type": "code",
    "id": "5fMSkwA9Qc8F"
   },
   "outputs": [],
   "source": [
    "# 練習用\n"
   ]
  },
  {
   "cell_type": "markdown",
   "metadata": {
    "colab_type": "text",
    "id": "Ff52sxFiQ5mG"
   },
   "source": [
    "## ● Bool値と比較演算子\n",
    "変数には`True`もしくは`False`の値を入れることができます。  \n",
    "これらの値は、**Bool値**と呼ばれます。  \n",
    "Bool値は`True`もしくは`False`のどちらかしかとることができません。"
   ]
  },
  {
   "cell_type": "code",
   "execution_count": null,
   "metadata": {
    "colab": {},
    "colab_type": "code",
    "id": "sUzagn13Q-WJ"
   },
   "outputs": [],
   "source": [
    "a = True\n",
    "b = False\n",
    "\n",
    "print(a)\n",
    "print(b)"
   ]
  },
  {
   "cell_type": "code",
   "execution_count": null,
   "metadata": {
    "colab": {},
    "colab_type": "code",
    "id": "0y-SCphVbDPa"
   },
   "outputs": [],
   "source": [
    "# 練習用\n"
   ]
  },
  {
   "cell_type": "markdown",
   "metadata": {
    "colab_type": "text",
    "id": "xynAyE7bbIXO"
   },
   "source": [
    "**比較演算子**を使うことで、値を比較した結果をBool値として得ることができます。  \n",
    "`>`や`<`などの比較演算子は、左右の値を比較します。  \n"
   ]
  },
  {
   "cell_type": "code",
   "execution_count": 3,
   "metadata": {
    "colab": {},
    "colab_type": "code",
    "id": "JPnYBd6675IK"
   },
   "outputs": [
    {
     "name": "stdout",
     "output_type": "stream",
     "text": [
      "False\n",
      "True\n",
      "False\n",
      "True\n",
      "False\n",
      "True\n"
     ]
    }
   ],
   "source": [
    "c = 3\n",
    "d = 4\n",
    "\n",
    "e = c > d  # cがdよりも大きいかどうか\n",
    "print(e)\n",
    "\n",
    "f = c < d  # cがdよりも小さいかどうか\n",
    "print(f)\n",
    "\n",
    "g = c >= d  # cがd以上かどうか\n",
    "print(g)\n",
    "\n",
    "h = c <= d  # cがd以下かどうか\n",
    "print(h)\n",
    "\n",
    "i = c == d  # cとdが等しいかどうか\n",
    "print(i)\n",
    "\n",
    "j = c != d  # cとdが等しくないか\n",
    "print(j)"
   ]
  },
  {
   "cell_type": "code",
   "execution_count": null,
   "metadata": {
    "colab": {},
    "colab_type": "code",
    "id": "74vLCh-THt4B"
   },
   "outputs": [],
   "source": [
    "# 練習用\n"
   ]
  },
  {
   "cell_type": "markdown",
   "metadata": {
    "colab_type": "text",
    "id": "leSqs4xJ8g7q"
   },
   "source": [
    "Pythonで使われる比較演算子を以下にまとめます。\n",
    "\n",
    "||||\n",
    "|:-:|:-:|:--|\n",
    "|| < | 小さい |\n",
    "|| > | 大きい |\n",
    "|| <= | 以上 |\n",
    "|| >= | 以下 |\n",
    "|| == | 等しい |\n",
    "|| != | 等しくない |\n",
    "||||"
   ]
  },
  {
   "cell_type": "markdown",
   "metadata": {
    "colab_type": "text",
    "id": "D6lMp6KNIiGC"
   },
   "source": [
    "## ● 論理演算子\n",
    "**論理演算子**を使うと、Bool値の演算を行うことができます。"
   ]
  },
  {
   "cell_type": "code",
   "execution_count": 4,
   "metadata": {
    "colab": {},
    "colab_type": "code",
    "id": "lEnQDGY6Jmt1"
   },
   "outputs": [
    {
     "name": "stdout",
     "output_type": "stream",
     "text": [
      "True\n",
      "True\n",
      "False\n"
     ]
    }
   ],
   "source": [
    "a = 3\n",
    "b = 4\n",
    "c = 5\n",
    "\n",
    "d = a < b and b < c  # 両者がTrueであればTrue\n",
    "print(d)\n",
    "\n",
    "e = a < b or b > c  # 片方がTrueであればTrue\n",
    "print(e)\n",
    "\n",
    "f = not a < b  # Bool値を反転\n",
    "print(f)"
   ]
  },
  {
   "cell_type": "code",
   "execution_count": null,
   "metadata": {
    "colab": {},
    "colab_type": "code",
    "id": "y0qwm9SnM6GZ"
   },
   "outputs": [],
   "source": [
    "# 練習用\n"
   ]
  },
  {
   "cell_type": "markdown",
   "metadata": {
    "colab_type": "text",
    "id": "8cfNnbcoMUS-"
   },
   "source": [
    "Pythonで使われる論理演算子を以下にまとめます。  \n",
    "\n",
    "||||\n",
    "|:-:|:-:|:--|\n",
    "|| and | 両者がTrueであればTrue |\n",
    "|| or | 片方がTrueであればTrue |\n",
    "|| not | Bool値を反転 |\n",
    "||||\n",
    "\n",
    "このような論理演算子を使うことで、複雑な条件をコードで表現することが可能になります。"
   ]
  }
 ],
 "metadata": {
  "colab": {
   "authorship_tag": "ABX9TyN9sAbXgOfuA10FQ+oF1BmI",
   "collapsed_sections": [],
   "include_colab_link": true,
   "name": "python_basic_1.ipynb",
   "provenance": []
  },
  "kernelspec": {
   "display_name": "Python 3",
   "language": "python",
   "name": "python3"
  },
  "language_info": {
   "codemirror_mode": {
    "name": "ipython",
    "version": 3
   },
   "file_extension": ".py",
   "mimetype": "text/x-python",
   "name": "python",
   "nbconvert_exporter": "python",
   "pygments_lexer": "ipython3",
   "version": "3.8.5"
  }
 },
 "nbformat": 4,
 "nbformat_minor": 1
}

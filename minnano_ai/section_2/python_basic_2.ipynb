{
 "cells": [
  {
   "cell_type": "markdown",
   "metadata": {
    "colab_type": "text",
    "id": "view-in-github"
   },
   "source": [
    "<a href=\"https://colab.research.google.com/github/yukinaga/minnano_ai/blob/master/section_2/python_basic_2.ipynb\" target=\"_parent\"><img src=\"https://colab.research.google.com/assets/colab-badge.svg\" alt=\"Open In Colab\"/></a>"
   ]
  },
  {
   "cell_type": "markdown",
   "metadata": {
    "colab_type": "text",
    "id": "QK1qtAbx7DCH"
   },
   "source": [
    "# Pythonの基礎2\n",
    "リストや分岐、ループなどについて学んでいきます。"
   ]
  },
  {
   "cell_type": "markdown",
   "metadata": {
    "colab_type": "text",
    "id": "BBT3UlBN7DCX"
   },
   "source": [
    "## ●リスト\n",
    "**リスト**は、複数の値をまとめて扱う場合に使用します。  \n",
    "リストは全体を`[]`で囲み、各要素は`,`で区切ります。  "
   ]
  },
  {
   "cell_type": "code",
   "execution_count": null,
   "metadata": {
    "colab": {},
    "colab_type": "code",
    "id": "Qi_hyR077DCY"
   },
   "outputs": [],
   "source": [
    "a = [2011, 2012, 2013, 2014, 2015]  # リストの作成\n",
    "\n",
    "print(a[0])  # 先頭から0番目の要素\n",
    "print(a[1])  # 先頭から1番目の要素\n",
    "print(a[2])  # 先頭から2番目の要素"
   ]
  },
  {
   "cell_type": "code",
   "execution_count": null,
   "metadata": {
    "colab": {},
    "colab_type": "code",
    "id": "8uCyuQHR_4M0"
   },
   "outputs": [],
   "source": [
    "# 練習用\n"
   ]
  },
  {
   "cell_type": "markdown",
   "metadata": {
    "colab_type": "text",
    "id": "FsL7GD6p_xL7"
   },
   "source": [
    "リストでは、変数名の直後に`[ ]`を記述することで各要素を取り出すことができます。   \n",
    "Pythonのリストはどのような値でも格納することができます。"
   ]
  },
  {
   "cell_type": "code",
   "execution_count": null,
   "metadata": {
    "colab": {},
    "colab_type": "code",
    "id": "eQyRokhrCutm"
   },
   "outputs": [],
   "source": [
    "b = 2016\n",
    "c = [b, 2017, 20.1, \"Hello\", \"Hi\"]\n",
    "print(c[1:4])  # 先頭から1番目以上、4番目未満の範囲"
   ]
  },
  {
   "cell_type": "code",
   "execution_count": null,
   "metadata": {
    "colab": {},
    "colab_type": "code",
    "id": "GCqOwdJPFAb8"
   },
   "outputs": [],
   "source": [
    "# 練習用\n"
   ]
  },
  {
   "cell_type": "markdown",
   "metadata": {
    "colab_type": "text",
    "id": "xTCNxy9IESfE"
   },
   "source": [
    "リストの中にリストを格納することもできます。"
   ]
  },
  {
   "cell_type": "code",
   "execution_count": null,
   "metadata": {
    "colab": {},
    "colab_type": "code",
    "id": "T1cpxD79GBcu"
   },
   "outputs": [],
   "source": [
    "d =[[2012, 2013, 2014], [2015, 2016, 2017]]\n",
    "print(d[0])  # 先頭から0番目の要素"
   ]
  },
  {
   "cell_type": "code",
   "execution_count": null,
   "metadata": {
    "colab": {},
    "colab_type": "code",
    "id": "ScUcc8ycGXrW"
   },
   "outputs": [],
   "source": [
    "# 練習用\n"
   ]
  },
  {
   "cell_type": "markdown",
   "metadata": {
    "colab_type": "text",
    "id": "eF1dmMxzQK0-"
   },
   "source": [
    "リストは、作成後に要素を変更することができます。  \n",
    "また、appendにより要素を追加することができます。"
   ]
  },
  {
   "cell_type": "code",
   "execution_count": null,
   "metadata": {
    "colab": {},
    "colab_type": "code",
    "id": "QqTepYh6QuMa"
   },
   "outputs": [],
   "source": [
    "e = [\"Py\", 543.21, 79, \"thon\", [2018, 2019, 2020]]\n",
    "print(e)\n",
    "\n",
    "# 要素の変更\n",
    "e[2] = 99\n",
    "print(e)\n",
    "\n",
    "# 要素の追加\n",
    "e.append(2021)\n",
    "print(e)"
   ]
  },
  {
   "cell_type": "code",
   "execution_count": null,
   "metadata": {
    "colab": {},
    "colab_type": "code",
    "id": "XqeoFPxMqNwb"
   },
   "outputs": [],
   "source": [
    "# 練習用\n"
   ]
  },
  {
   "cell_type": "markdown",
   "metadata": {
    "colab_type": "text",
    "id": "GeQVpswkLLvU"
   },
   "source": [
    "リストにより、多くの値を効率よく扱うことが可能になります。"
   ]
  },
  {
   "cell_type": "markdown",
   "metadata": {
    "colab_type": "text",
    "id": "33Tx-KRc7DCZ"
   },
   "source": [
    "## ●タプル\n",
    "**タプル**はリストと同じく複数の値をまとめて扱いたいときに利用しますが、要素の追加や削除、入れ替えなどはできません。  \n",
    "タプルは全体を`()`で囲み、各要素は`,`で区切ります。  \n",
    "要素を変更する予定が無い場合は、リストよりもタプルを使用する方がベターです。  \n",
    "以下では、リストとタプルを比較しています。  "
   ]
  },
  {
   "cell_type": "code",
   "execution_count": null,
   "metadata": {
    "colab": {},
    "colab_type": "code",
    "id": "uMW9UFiP7DCa"
   },
   "outputs": [],
   "source": [
    "a = [2012, 2013, 2014]  # リスト\n",
    "b = (2012, 2013, 2014)  # タプル\n",
    "\n",
    "print(a)\n",
    "print(b)\n",
    "\n",
    "print(a[1])\n",
    "print(b[1])\n",
    "\n",
    "a[1] = 2016\n",
    "print(a)\n",
    "\n",
    "# b[1] = 2016  # エラーが発生\n",
    "# print(b)\n",
    "\n",
    "a.append(2015)\n",
    "print(a)\n",
    "\n",
    "# b.append(2015)  # エラーが発生\n",
    "# print(b)"
   ]
  },
  {
   "cell_type": "code",
   "execution_count": null,
   "metadata": {
    "colab": {},
    "colab_type": "code",
    "id": "htyvMHuSqsEf"
   },
   "outputs": [],
   "source": [
    "# 練習用\n"
   ]
  },
  {
   "cell_type": "markdown",
   "metadata": {
    "colab_type": "text",
    "id": "KrLdlqyL7DCc"
   },
   "source": [
    "タプルの要素を変更したり、タプルに要素を追加しようとするとエラーが発生します。"
   ]
  },
  {
   "cell_type": "markdown",
   "metadata": {
    "colab_type": "text",
    "id": "NkynT8abLLvF"
   },
   "source": [
    "## ●辞書\n",
    "**辞書**は、キーと値の組合せでデータを格納します。　  \n",
    "以下は、Pythonの辞書を扱う例です。  \n",
    "文字列をキーとして辞書を作成し、値の取得や入れ替え、要素の追加を行なっています。"
   ]
  },
  {
   "cell_type": "code",
   "execution_count": 1,
   "metadata": {
    "colab": {},
    "colab_type": "code",
    "id": "_Mrxui8mLQ5P"
   },
   "outputs": [
    {
     "name": "stdout",
     "output_type": "stream",
     "text": [
      "1985\n",
      "{'Taro': 1985, 'Hanako': 1987}\n",
      "{'Taro': 1985, 'Hanako': 1987, 'Jiro': 1989}\n"
     ]
    }
   ],
   "source": [
    "a = {\"Taro\":1985, \"Hanako\":1986}  # 辞書の作成\n",
    "print(a[\"Taro\"])   # \"Taro\"のキーを持つ値を取得\n",
    "\n",
    "a[\"Hanako\"] = 1987  # 要素の入れ替え\n",
    "print(a)\n",
    "\n",
    "a[\"Jiro\"] = 1989  # 要素の追加\n",
    "print(a)"
   ]
  },
  {
   "cell_type": "code",
   "execution_count": null,
   "metadata": {
    "colab": {},
    "colab_type": "code",
    "id": "srGuibNYsDrJ"
   },
   "outputs": [],
   "source": [
    "# 練習用\n"
   ]
  },
  {
   "cell_type": "markdown",
   "metadata": {
    "colab_type": "text",
    "id": "uEXLmC08sxOD"
   },
   "source": [
    "辞書は、キーを使って多数の値を管理したい際に使用します。"
   ]
  },
  {
   "cell_type": "markdown",
   "metadata": {
    "colab_type": "text",
    "id": "vOkphdpi7DCh"
   },
   "source": [
    "## ●if文  \n",
    "**if**文により条件分岐を行うことができます。  \n",
    "ifの右側が`True`であればその次の処理が、`False`であればelseの次の処理が実行されます。  \n",
    "以下のコードは、`a`の値が5であれば足し算を行い、5でなければ掛け算を行います。  \n"
   ]
  },
  {
   "cell_type": "code",
   "execution_count": null,
   "metadata": {
    "colab": {},
    "colab_type": "code",
    "id": "tubP_tFRzohW"
   },
   "outputs": [],
   "source": [
    "a = 5\n",
    "\n",
    "if a == 5:  # aと5は等しいのでifの右はTrue\n",
    "    print(\"3+4=\")\n",
    "    print(3+4)\n",
    "else:\n",
    "    print(\"3×4=\")\n",
    "    print(3*4)"
   ]
  },
  {
   "cell_type": "code",
   "execution_count": null,
   "metadata": {
    "colab": {},
    "colab_type": "code",
    "id": "DEzLifnOsXl9"
   },
   "outputs": [],
   "source": [
    "# 練習用\n"
   ]
  },
  {
   "cell_type": "markdown",
   "metadata": {
    "colab_type": "text",
    "id": "rr_1KJ0r2Os5"
   },
   "source": [
    "分岐後の処理の行頭には、複数のスペースからなる「インデント」を挿入します。  \n",
    "インデントは通常半角スペース4つを使用します。  \n",
    "    \n",
    "3つ以上の分岐を行う際には、`elif`を使用します。  \n"
   ]
  },
  {
   "cell_type": "code",
   "execution_count": null,
   "metadata": {
    "colab": {},
    "colab_type": "code",
    "id": "fod0Q-CY1k-8"
   },
   "outputs": [],
   "source": [
    "b = 4\n",
    "\n",
    "if b < 3:\n",
    "    print(\"Hello!\")\n",
    "elif b < 5:  # ifの右側がFalseの場合\n",
    "    print(\"Hi!\")\n",
    "else:  # if、elifの右側がFalseの場合\n",
    "    print(\"Yeah!\")"
   ]
  },
  {
   "cell_type": "code",
   "execution_count": null,
   "metadata": {
    "colab": {},
    "colab_type": "code",
    "id": "NzpzGvXBsnoC"
   },
   "outputs": [],
   "source": [
    "# 練習用\n"
   ]
  },
  {
   "cell_type": "markdown",
   "metadata": {
    "colab_type": "text",
    "id": "6bf9rfImsqRl"
   },
   "source": [
    "`elif`を並べることで、さらに多くの分岐を行うことが可能になります。"
   ]
  },
  {
   "cell_type": "code",
   "execution_count": null,
   "metadata": {
    "colab": {},
    "colab_type": "code",
    "id": "mgzqzezO7DCh"
   },
   "outputs": [],
   "source": [
    "time = 20\n",
    "\n",
    "if time < 12:\n",
    "    print(\"Good morning!\")\n",
    "elif time < 17:\n",
    "    print(\"Good afternoon!\")\n",
    "elif time < 21:\n",
    "    print(\"Good evening!\")\n",
    "else:\n",
    "    print(\"Good night!\")"
   ]
  },
  {
   "cell_type": "code",
   "execution_count": null,
   "metadata": {
    "colab": {},
    "colab_type": "code",
    "id": "MajMrIr6uYFj"
   },
   "outputs": [],
   "source": [
    "# 練習用\n"
   ]
  },
  {
   "cell_type": "markdown",
   "metadata": {
    "colab_type": "text",
    "id": "4ikn14Eq7DCj"
   },
   "source": [
    "## ●for文\n",
    "**for**文を使えば、同じ処理を繰り返し実行することができます。  \n",
    "以下の例は、リストをとfor文を使ったループ処理です。  "
   ]
  },
  {
   "cell_type": "code",
   "execution_count": 2,
   "metadata": {
    "colab": {},
    "colab_type": "code",
    "id": "qf8iaf9V7DCj"
   },
   "outputs": [
    {
     "name": "stdout",
     "output_type": "stream",
     "text": [
      "2011\n",
      "2012\n",
      "2013\n",
      "2014\n",
      "2015\n"
     ]
    }
   ],
   "source": [
    "a = [2001, 2002, 2003, 2004, 2005]\n",
    "for i in a:  # iにはリストaの各要素が入る\n",
    "    print(i + 10)  # 行頭にインデントを入れる"
   ]
  },
  {
   "cell_type": "code",
   "execution_count": null,
   "metadata": {
    "colab": {},
    "colab_type": "code",
    "id": "ydtFlmi62SFw"
   },
   "outputs": [],
   "source": [
    "# 練習用\n"
   ]
  },
  {
   "cell_type": "markdown",
   "metadata": {
    "colab_type": "text",
    "id": "QhR-cy3d2T83"
   },
   "source": [
    "繰り返し行う処理には行頭にインデントを挿入します。  \n",
    "  \n",
    "ループ内で連番の整数を使う場合は、`range`を使用します。  \n",
    "以下の例では、`i`に0から5までの整数が入ります。  "
   ]
  },
  {
   "cell_type": "code",
   "execution_count": null,
   "metadata": {
    "colab": {},
    "colab_type": "code",
    "id": "BS44zQjq2cLy"
   },
   "outputs": [],
   "source": [
    "for i in range(0, 6):  # iには0以上6未満の整数が入る\n",
    "    print(i * 2)"
   ]
  },
  {
   "cell_type": "code",
   "execution_count": null,
   "metadata": {
    "colab": {},
    "colab_type": "code",
    "id": "d38PRmcY4C-B"
   },
   "outputs": [],
   "source": [
    "# 練習用\n"
   ]
  },
  {
   "cell_type": "markdown",
   "metadata": {
    "colab_type": "text",
    "id": "0vD9S7yM4Ova"
   },
   "source": [
    "for文によるループを使うことで、冗長なコードを簡潔にまとめることが可能になります。"
   ]
  },
  {
   "cell_type": "markdown",
   "metadata": {
    "colab_type": "text",
    "id": "FKQ9lg_NFEoJ"
   },
   "source": [
    "## ●while文\n",
    "ある条件が満たされている間ループするためには、**while**文を用います。"
   ]
  },
  {
   "cell_type": "code",
   "execution_count": null,
   "metadata": {
    "colab": {},
    "colab_type": "code",
    "id": "vFVOuNokFKV3"
   },
   "outputs": [],
   "source": [
    "print(\"--- 10未満 ---\")\n",
    "a = 0\n",
    "while a < 10:  # aが10未満である間ループ\n",
    "    print(a)\n",
    "    a += 1  # aに1を加える\n",
    "\n",
    "print(\"--- 10と等しくない ---\")\n",
    "b = 0\n",
    "while b != 10:  # bが10と等しくない限りループ\n",
    "    print(b)\n",
    "    b += 1"
   ]
  },
  {
   "cell_type": "code",
   "execution_count": null,
   "metadata": {
    "colab": {},
    "colab_type": "code",
    "id": "W94f0JFR9p3p"
   },
   "outputs": [],
   "source": [
    "# 練習用\n"
   ]
  },
  {
   "cell_type": "markdown",
   "metadata": {
    "colab_type": "text",
    "id": "jdyK90d_GJzn"
   },
   "source": [
    "## ●分岐とループの組み合わせ\n",
    "分岐とループを組み合わせることで、条件が満たされた処理のみをループ内で実行することが可能になります。"
   ]
  },
  {
   "cell_type": "code",
   "execution_count": 3,
   "metadata": {
    "colab": {},
    "colab_type": "code",
    "id": "qncEVtHrHNkM"
   },
   "outputs": [
    {
     "name": "stdout",
     "output_type": "stream",
     "text": [
      "[0, 2, 4, 6, 8]\n"
     ]
    }
   ],
   "source": [
    "a = []  # 空のリスト\n",
    "for i in range(0, 10):\n",
    "    if i%2 == 0:  # 偶数であれば\n",
    "        a.append(i)\n",
    "\n",
    "print (a)"
   ]
  },
  {
   "cell_type": "code",
   "execution_count": null,
   "metadata": {
    "colab": {},
    "colab_type": "code",
    "id": "bwW7OyfbBiKR"
   },
   "outputs": [],
   "source": [
    "# 練習用\n"
   ]
  }
 ],
 "metadata": {
  "colab": {
   "authorship_tag": "ABX9TyPdjxknDZNDHdnEKg4+DwZF",
   "collapsed_sections": [],
   "include_colab_link": true,
   "name": "python_basic_2.ipynb",
   "provenance": []
  },
  "kernelspec": {
   "display_name": "Python 3",
   "language": "python",
   "name": "python3"
  },
  "language_info": {
   "codemirror_mode": {
    "name": "ipython",
    "version": 3
   },
   "file_extension": ".py",
   "mimetype": "text/x-python",
   "name": "python",
   "nbconvert_exporter": "python",
   "pygments_lexer": "ipython3",
   "version": "3.8.5"
  }
 },
 "nbformat": 4,
 "nbformat_minor": 1
}

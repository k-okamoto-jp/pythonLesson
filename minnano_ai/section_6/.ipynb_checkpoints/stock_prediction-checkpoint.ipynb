{
 "cells": [
  {
   "cell_type": "markdown",
   "metadata": {
    "colab_type": "text",
    "id": "view-in-github"
   },
   "source": [
    "<a href=\"https://colab.research.google.com/github/yukinaga/minnano_ai/blob/master/section_6/stock_prediction.ipynb\" target=\"_parent\"><img src=\"https://colab.research.google.com/assets/colab-badge.svg\" alt=\"Open In Colab\"/></a>"
   ]
  },
  {
   "cell_type": "markdown",
   "metadata": {
    "colab_type": "text",
    "id": "wbePHzKfi6l0"
   },
   "source": [
    "# 株価の予測\n",
    "scikit-learnを使って株価の予測を行います。  \n",
    "サポートベクターマシンにフェイクの株価データを学習させて、次の日の株価の上下を予測します。  "
   ]
  },
  {
   "cell_type": "markdown",
   "metadata": {
    "colab_type": "text",
    "id": "kuJqE4vZlEou"
   },
   "source": [
    "## ● 株価の学習と予測\n",
    "stock_price.txtにフェイクの株価データが格納されています。  \n",
    "読み込んで変化率に変換し、4日分の変化率から次の日の株価の上下を予測するようにサポートベクターマシンを訓練します。"
   ]
  },
  {
   "cell_type": "code",
   "execution_count": null,
   "metadata": {
    "colab": {},
    "colab_type": "code",
    "id": "9hdje4MHJy3c"
   },
   "outputs": [],
   "source": [
    "from sklearn import svm\n",
    "from sklearn.model_selection import train_test_split\n",
    "\n",
    "with open(\"stock_price.txt\", \"r\") as f:\n",
    "    stock_file_data = f.read()  # ファイルの読み込み\n",
    "stock_file_data = stock_file_data.split()  # 改行で分割しリストに格納\n",
    "stock_data = []\n",
    "for stock_string in stock_file_data:\n",
    "    stock_data.append(float(stock_string))  # 小数に変換した上でリストに格納\n",
    "\n",
    "# データの確認\n",
    "# print(\"株価\", stock_data)\n",
    "n_price = len(stock_data)\n",
    "# print(\"株価データの数\", n_price)\n",
    "\n",
    "# 株価の変化率\n",
    "ratio_data = []\n",
    "for i in range(1, n_price):\n",
    "    ratio_data.append(float(stock_data[i] - stock_data[i-1]) / float(stock_data[i-1]))\n",
    "# print(\"株価の変化率\", ratio_data)\n",
    "n_ratio = len(ratio_data)\n",
    "# print(\"株価の変化率データの数\", n_ratio)\n",
    "\n",
    "# 前日までの4連続の変化率のデータ\n",
    "successive_data = []\n",
    "answers = []  # 正解値 価格上昇: 1 価格低下: 0\n",
    "for i in range(4, n_ratio):\n",
    "    successive_data.append([ratio_data[i-4], ratio_data[i-3], ratio_data[i-2], ratio_data[i-1]])\n",
    "    if ratio_data[i] > 0:\n",
    "        answers.append(1)\n",
    "    else:\n",
    "        answers.append(0)\n",
    "# print(\"4日連続の変化率\", successive_data)\n",
    "# print(\"正解\", answers)\n",
    "\n",
    "x_train, x_test, t_train, t_test = train_test_split(successive_data, answers, shuffle=False)  # シャッフルしない\n",
    "\n",
    "clf = svm.SVC()  # サポートベクターマシーン\n",
    "clf.fit(x_train, t_train)  # 訓練\n",
    "\n",
    "y_test = clf.predict(x_test)  # テスト用データで予測\n",
    "\n",
    "# 末尾の10個を比較\n",
    "print (\"正解:\", t_test[-10:])\n",
    "print (\"予測:\", y_test[-10:])\n",
    "\n",
    "# 正解率の計算\n",
    "correct = 0.0\n",
    "wrong = 0.0\n",
    "for i in range(len(t_test)):\n",
    "    if y_test[i] == t_test[i]:\n",
    "        correct += 1.0\n",
    "    else:\n",
    "        wrong += 1.0\n",
    "print (\"正解率:\", str(correct / (correct+wrong) * 100), \"%\")"
   ]
  },
  {
   "cell_type": "code",
   "execution_count": null,
   "metadata": {
    "colab": {},
    "colab_type": "code",
    "id": "aE-q76klVfHu"
   },
   "outputs": [],
   "source": [
    "# コード練習用\n"
   ]
  }
 ],
 "metadata": {
  "colab": {
   "authorship_tag": "ABX9TyMk2m4AVSXU8E+MkrMd4zIp",
   "collapsed_sections": [],
   "include_colab_link": true,
   "name": "stock_prediction.ipynb",
   "provenance": []
  },
  "kernelspec": {
   "display_name": "Python 3",
   "language": "python",
   "name": "python3"
  },
  "language_info": {
   "codemirror_mode": {
    "name": "ipython",
    "version": 3
   },
   "file_extension": ".py",
   "mimetype": "text/x-python",
   "name": "python",
   "nbconvert_exporter": "python",
   "pygments_lexer": "ipython3",
   "version": "3.8.5"
  }
 },
 "nbformat": 4,
 "nbformat_minor": 1
}

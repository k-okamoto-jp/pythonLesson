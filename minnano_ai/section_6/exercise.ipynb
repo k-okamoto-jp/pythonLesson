{
 "cells": [
  {
   "cell_type": "markdown",
   "metadata": {
    "colab_type": "text",
    "id": "view-in-github"
   },
   "source": [
    "<a href=\"https://colab.research.google.com/github/yukinaga/minnano_ai/blob/master/section_6/exercise.ipynb\" target=\"_parent\"><img src=\"https://colab.research.google.com/assets/colab-badge.svg\" alt=\"Open In Colab\"/></a>"
   ]
  },
  {
   "cell_type": "markdown",
   "metadata": {
    "colab_type": "text",
    "id": "lhehkh1Zo49U"
   },
   "source": [
    "# 演習\n",
    "scikit-learnを使って、ワインの分類を行いましょう。"
   ]
  },
  {
   "cell_type": "markdown",
   "metadata": {
    "colab_type": "text",
    "id": "egtOwzRixb9M"
   },
   "source": [
    "## ● ワインの分類\n",
    "scikit-learnのdatasetsから、`load_wine`によりワインのデータを読み込みます。  \n",
    "このデータは、イタリアの同じ地域で3つの異なる栽培者によって栽培されたワインの化学分析の結果です。  \n",
    "3種類のワインに含まれる成分について、13種類の測定が行われています。  \n",
    "https://scikit-learn.org/stable/datasets/index.html#wine-dataset  \n",
    "以下のコードの`wines.data`には各ワインの測定値が、`wines.target`には栽培者を表す0、1、2の数値が格納されています。  \n",
    "コードに追記を行い、ワインの分類を行いましょう。\n"
   ]
  },
  {
   "cell_type": "code",
   "execution_count": 6,
   "metadata": {
    "colab": {},
    "colab_type": "code",
    "id": "POLX6x7Do2Ux"
   },
   "outputs": [
    {
     "name": "stdout",
     "output_type": "stream",
     "text": [
      "(178, 13)\n",
      "(178,)\n",
      "              precision    recall  f1-score   support\n",
      "\n",
      "           0       0.94      0.89      0.91        18\n",
      "           1       0.54      1.00      0.70        15\n",
      "           2       0.00      0.00      0.00        12\n",
      "\n",
      "    accuracy                           0.69        45\n",
      "   macro avg       0.49      0.63      0.54        45\n",
      "weighted avg       0.56      0.69      0.60        45\n",
      "\n",
      "[[16  2  0]\n",
      " [ 0 15  0]\n",
      " [ 1 11  0]]\n"
     ]
    },
    {
     "name": "stderr",
     "output_type": "stream",
     "text": [
      "C:\\Users\\IPM\\anaconda3\\lib\\site-packages\\sklearn\\metrics\\_classification.py:1221: UndefinedMetricWarning: Precision and F-score are ill-defined and being set to 0.0 in labels with no predicted samples. Use `zero_division` parameter to control this behavior.\n",
      "  _warn_prf(average, modifier, msg_start, len(result))\n"
     ]
    }
   ],
   "source": [
    "from sklearn import datasets\n",
    "from sklearn import svm\n",
    "from sklearn.model_selection import train_test_split\n",
    "from sklearn import metrics\n",
    "import matplotlib.pyplot as plt\n",
    "\n",
    "# ワインのデータを読み込み\n",
    "wines = datasets.load_wine()\n",
    "print(wines.data.shape)\n",
    "print(wines.target.shape)\n",
    "\n",
    "# 訓練データとテストデータに分割\n",
    "x_train, x_test, t_train, t_test = train_test_split(wines.data, wines.target)\n",
    "\n",
    "clf = svm.SVC()  # この行にコードを追記\n",
    "clf.fit(x_train, t_train) # この行にコードを追記\n",
    "\n",
    "y_test = clf.predict(x_test)  # この行にコードを追記\n",
    "print(metrics.classification_report(t_test, y_test))  # 正解率など\n",
    "print(metrics.confusion_matrix(t_test, y_test))  # 行:正解、列:予測"
   ]
  },
  {
   "cell_type": "markdown",
   "metadata": {
    "colab_type": "text",
    "id": "swD6lOBsxout"
   },
   "source": [
    "## 解答例\n",
    "以下は解答例です。どうしても手がかりがつかめないときのみ参考にしましょう。"
   ]
  },
  {
   "cell_type": "code",
   "execution_count": 4,
   "metadata": {
    "colab": {},
    "colab_type": "code",
    "id": "DxvJy2M9s-AX"
   },
   "outputs": [
    {
     "name": "stdout",
     "output_type": "stream",
     "text": [
      "(178, 13)\n",
      "(178,)\n",
      "              precision    recall  f1-score   support\n",
      "\n",
      "           0       0.93      0.93      0.93        14\n",
      "           1       0.55      1.00      0.71        17\n",
      "           2       0.00      0.00      0.00        14\n",
      "\n",
      "    accuracy                           0.67        45\n",
      "   macro avg       0.49      0.64      0.55        45\n",
      "weighted avg       0.50      0.67      0.56        45\n",
      "\n",
      "[[13  1  0]\n",
      " [ 0 17  0]\n",
      " [ 1 13  0]]\n"
     ]
    },
    {
     "name": "stderr",
     "output_type": "stream",
     "text": [
      "C:\\Users\\IPM\\anaconda3\\lib\\site-packages\\sklearn\\metrics\\_classification.py:1221: UndefinedMetricWarning: Precision and F-score are ill-defined and being set to 0.0 in labels with no predicted samples. Use `zero_division` parameter to control this behavior.\n",
      "  _warn_prf(average, modifier, msg_start, len(result))\n"
     ]
    }
   ],
   "source": [
    "from sklearn import datasets\n",
    "from sklearn import svm\n",
    "from sklearn.model_selection import train_test_split\n",
    "from sklearn import metrics\n",
    "import matplotlib.pyplot as plt\n",
    "\n",
    "# ワインのデータを読み込み\n",
    "wines = datasets.load_wine()\n",
    "print(wines.data.shape)\n",
    "print(wines.target.shape)\n",
    "\n",
    "# 訓練データとテストデータに分割\n",
    "x_train, x_test, t_train, t_test = train_test_split(wines.data, wines.target)\n",
    "\n",
    "clf = svm.SVC()  # サポートベクターマシーン\n",
    "clf.fit(x_train, t_train)  # 訓練\n",
    "\n",
    "y_test = clf.predict(x_test)  # テストデータで予測\n",
    "print(metrics.classification_report(t_test, y_test))  # 正解率など\n",
    "print(metrics.confusion_matrix(t_test, y_test))  # 行:正解、列:予測"
   ]
  },
  {
   "cell_type": "code",
   "execution_count": null,
   "metadata": {},
   "outputs": [],
   "source": []
  }
 ],
 "metadata": {
  "colab": {
   "authorship_tag": "ABX9TyOTnRFnEpwk1HZoRHBLtqQw",
   "collapsed_sections": [],
   "include_colab_link": true,
   "name": "exercise.ipynb",
   "provenance": []
  },
  "kernelspec": {
   "display_name": "Python 3",
   "language": "python",
   "name": "python3"
  },
  "language_info": {
   "codemirror_mode": {
    "name": "ipython",
    "version": 3
   },
   "file_extension": ".py",
   "mimetype": "text/x-python",
   "name": "python",
   "nbconvert_exporter": "python",
   "pygments_lexer": "ipython3",
   "version": "3.8.5"
  }
 },
 "nbformat": 4,
 "nbformat_minor": 1
}

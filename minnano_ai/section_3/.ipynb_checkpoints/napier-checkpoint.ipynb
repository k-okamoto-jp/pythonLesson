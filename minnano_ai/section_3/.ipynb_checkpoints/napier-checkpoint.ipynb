{
 "cells": [
  {
   "cell_type": "markdown",
   "metadata": {
    "colab_type": "text",
    "id": "view-in-github"
   },
   "source": [
    "<a href=\"https://colab.research.google.com/github/yukinaga/minnano_ai/blob/master/section_3/napier.ipynb\" target=\"_parent\"><img src=\"https://colab.research.google.com/assets/colab-badge.svg\" alt=\"Open In Colab\"/></a>"
   ]
  },
  {
   "cell_type": "markdown",
   "metadata": {
    "colab_type": "text",
    "id": "6lBYCIMcsRnW"
   },
   "source": [
    "# べき乗とネイピア数"
   ]
  },
  {
   "cell_type": "markdown",
   "metadata": {
    "colab_type": "text",
    "id": "U9hZrHzkt80r"
   },
   "source": [
    "## ● べき乗\n",
    "同じ数を何度か掛け合わせることを、**べき乗**といいます。  \n",
    "例えば、\n",
    "$$3\\times 3\\times 3\\times 3\\times 3$$\n",
    "は、3を5つかけていますが、次のように短く表すことができます。\n",
    "\n",
    "$$3^5$$\n",
    "\n",
    "以下のコードは、次のべき乗の式をグラフに描画します。 \n",
    "$$ y = 2^x $$\n",
    "$$y = 3^x$$"
   ]
  },
  {
   "cell_type": "markdown",
   "metadata": {
    "colab_type": "text",
    "id": "-mugXe-E3iGx"
   },
   "source": [
    "#### 数式の練習用\n",
    "$$$$\n",
    "$$$$"
   ]
  },
  {
   "cell_type": "code",
   "execution_count": null,
   "metadata": {
    "colab": {},
    "colab_type": "code",
    "id": "k7uqYKmUnTcB"
   },
   "outputs": [],
   "source": [
    "import numpy as np\n",
    "import matplotlib.pyplot as plt\n",
    "\n",
    "x = np.linspace(-2, 2)\n",
    "\n",
    "y_2 = 2**x\n",
    "y_3 = 3**x\n",
    "\n",
    "plt.plot(x, y_2, label=\"2^x\")\n",
    "plt.plot(x, y_3, label=\"3^x\")\n",
    "plt.legend()\n",
    "\n",
    "plt.xlabel(\"x\", size=14)\n",
    "plt.ylabel(\"y\", size=14)\n",
    "plt.grid()\n",
    "plt.show()"
   ]
  },
  {
   "cell_type": "code",
   "execution_count": null,
   "metadata": {
    "colab": {},
    "colab_type": "code",
    "id": "OBx7Ws-J6sNl"
   },
   "outputs": [],
   "source": [
    "# コード練習用\n"
   ]
  },
  {
   "cell_type": "markdown",
   "metadata": {
    "colab_type": "text",
    "id": "Hj_ipLI16yr_"
   },
   "source": [
    "## ● ネイピア数\n",
    "**ネイピア数**$e$は、数学的にとても便利な性質を持った数です。  \n",
    "ネイピア数は、円周率$\\pi$のように無限に桁が続く小数です。\n",
    "\n",
    "$$e = 2.71828 18284 59045 23536 02874 71352 …$$ "
   ]
  },
  {
   "cell_type": "code",
   "execution_count": null,
   "metadata": {
    "colab": {},
    "colab_type": "code",
    "id": "DDmyVt0hs4xT"
   },
   "outputs": [],
   "source": [
    "import numpy as np\n",
    "\n",
    "print (np.e)"
   ]
  },
  {
   "cell_type": "code",
   "execution_count": null,
   "metadata": {
    "colab": {},
    "colab_type": "code",
    "id": "8wg9g3b5Ym-V"
   },
   "outputs": [],
   "source": [
    "# コード練習用\n"
   ]
  },
  {
   "cell_type": "markdown",
   "metadata": {
    "colab_type": "text",
    "id": "DScx1umXYmWL"
   },
   "source": [
    "以下のコードは、ネイピア数のべき乗の式をグラフで描画します。\n",
    "\n",
    "$$y=e^x$$"
   ]
  },
  {
   "cell_type": "markdown",
   "metadata": {
    "colab_type": "text",
    "id": "xL9WzZlyr87Q"
   },
   "source": [
    "#### 数式の練習用\n",
    "$$$$"
   ]
  },
  {
   "cell_type": "code",
   "execution_count": null,
   "metadata": {
    "colab": {},
    "colab_type": "code",
    "id": "Qr1nKE_zT1g0"
   },
   "outputs": [],
   "source": [
    "import numpy as np\n",
    "import matplotlib.pyplot as plt\n",
    "\n",
    "x = np.linspace(-2, 2)\n",
    "e = np.e  # ネイピア数\n",
    "\n",
    "y_2 = 2**x  # 比較用\n",
    "y_e = e**x  # ネイピア数のべき乗\n",
    "y_3 = 3**x  # 比較用\n",
    "\n",
    "plt.plot(x, y_2, label=\"2^x\")\n",
    "plt.plot(x, y_e, label=\"e^x\")\n",
    "plt.plot(x, y_3, label=\"3^x\")\n",
    "plt.legend()\n",
    "\n",
    "plt.xlabel(\"x\", size=14)\n",
    "plt.ylabel(\"y\", size=14)\n",
    "plt.grid()\n",
    "plt.show()"
   ]
  },
  {
   "cell_type": "code",
   "execution_count": null,
   "metadata": {
    "colab": {},
    "colab_type": "code",
    "id": "M2EkA_RCYwHU"
   },
   "outputs": [],
   "source": [
    "# コード練習用\n"
   ]
  },
  {
   "cell_type": "markdown",
   "metadata": {
    "colab_type": "text",
    "id": "3cjHyRP6bF0H"
   },
   "source": [
    " ネイピア数のべき乗には、  \n",
    "   \n",
    "**yの微小な変化 / xの微小な変化**  \n",
    "\n",
    "すなわち曲線の傾きが元の関数に近づいていくという性質があります。  \n",
    "以下のコードでは、これをグラフで描画することにより確認します。  "
   ]
  },
  {
   "cell_type": "code",
   "execution_count": null,
   "metadata": {
    "colab": {},
    "colab_type": "code",
    "id": "k3gKPn_YT1sP"
   },
   "outputs": [],
   "source": [
    "import matplotlib.pyplot as plt\n",
    "import numpy as np\n",
    "\n",
    "x = np.linspace(-2, 2)\n",
    "dx = 0.1  # xの微小な変化\n",
    "e = np.e  # ネイピア数\n",
    "\n",
    "y_e = e**x  # 元のべき乗の関数\n",
    "y_de = (e**(x+dx) - e**x) / dx  # yの微小な変化/xの微小な変化\n",
    "\n",
    "plt.plot(x, y_e, label=\"e^x\")\n",
    "plt.plot(x, y_de, label=\"de\")\n",
    "plt.legend()\n",
    "\n",
    "plt.xlabel(\"x\", size=14)\n",
    "plt.ylabel(\"y\", size=14)\n",
    "plt.grid()\n",
    "plt.show()"
   ]
  },
  {
   "cell_type": "code",
   "execution_count": null,
   "metadata": {
    "colab": {},
    "colab_type": "code",
    "id": "NmNwKv6WYx1J"
   },
   "outputs": [],
   "source": [
    "# コード練習用\n"
   ]
  }
 ],
 "metadata": {
  "colab": {
   "authorship_tag": "ABX9TyPSxwAt9tHbNE4E3SvVqeEy",
   "collapsed_sections": [],
   "include_colab_link": true,
   "name": "napier.ipynb",
   "provenance": []
  },
  "kernelspec": {
   "display_name": "Python 3",
   "language": "python",
   "name": "python3"
  },
  "language_info": {
   "codemirror_mode": {
    "name": "ipython",
    "version": 3
   },
   "file_extension": ".py",
   "mimetype": "text/x-python",
   "name": "python",
   "nbconvert_exporter": "python",
   "pygments_lexer": "ipython3",
   "version": "3.8.5"
  }
 },
 "nbformat": 4,
 "nbformat_minor": 1
}

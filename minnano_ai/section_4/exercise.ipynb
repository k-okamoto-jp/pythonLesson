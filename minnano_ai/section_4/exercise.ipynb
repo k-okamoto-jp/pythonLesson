{
 "cells": [
  {
   "cell_type": "markdown",
   "metadata": {
    "colab_type": "text",
    "id": "view-in-github"
   },
   "source": [
    "<a href=\"https://colab.research.google.com/github/yukinaga/minnano_ai/blob/master/section_4/exercise.ipynb\" target=\"_parent\"><img src=\"https://colab.research.google.com/assets/colab-badge.svg\" alt=\"Open In Colab\"/></a>"
   ]
  },
  {
   "cell_type": "markdown",
   "metadata": {
    "colab_type": "text",
    "id": "nZGud2NTV1ps"
   },
   "source": [
    "# 演習\n",
    "中間層のニューロン数を増やすことで、ニューラルネットワークの表現力が向上することを確認しましょう。"
   ]
  },
  {
   "cell_type": "markdown",
   "metadata": {
    "colab_type": "text",
    "id": "29utSeYTnxJw"
   },
   "source": [
    "## ● ニューロンの追加\n",
    "以下のセルにコードを追記し、中間層に3つ、出力層に1つのニューロンを持つニューラルネットワークを構築しましょう。  \n",
    "重みとバイアスを設定するコードは既に中間層の3つのニューロンに対応しているので、変更する必要はありません。"
   ]
  },
  {
   "cell_type": "code",
   "execution_count": 1,
   "metadata": {
    "colab": {},
    "colab_type": "code",
    "id": "zkY-BntOVy5e"
   },
   "outputs": [
    {
     "data": {
      "image/png": "[encoded data removed]",
      "text/plain": [
       "<Figure size 432x288 with 1 Axes>"
      ]
     },
     "metadata": {
      "needs_background": "light"
     },
     "output_type": "display_data"
    }
   ],
   "source": [
    "import numpy as np\n",
    "import matplotlib.pyplot as plt\n",
    "from sklearn import datasets\n",
    "\n",
    "iris = datasets.load_iris()\n",
    "iris_data = iris.data\n",
    "sl_data = iris_data[:100, 0] # SetosaとVersicolor、Sepal length\n",
    "sw_data = iris_data[:100, 1] # SetosaとVersicolor、Sepal width\n",
    "\n",
    "# 平均値を0に\n",
    "sl_ave = np.average(sl_data)  # 平均値\n",
    "sl_data -= sl_ave  # 平均値を引く\n",
    "sw_ave = np.average(sw_data)\n",
    "sw_data -= sw_ave\n",
    "\n",
    "# 入力をリストに格納\n",
    "input_data = []\n",
    "for i in range(100):  # iには0から99までが入る\n",
    "    input_data.append([sl_data[i], sw_data[i]])\n",
    "\n",
    "# シグモイド関数\n",
    "def sigmoid(x):\n",
    "    return 1.0 / (1.0 + np.exp(-x))\n",
    "\n",
    "# ニューロン\n",
    "class Neuron:\n",
    "    def __init__(self):  # 初期設定\n",
    "        self.input_sum = 0.0\n",
    "        self.output = 0.0\n",
    "\n",
    "    def set_input(self, inp):\n",
    "        self.input_sum += inp\n",
    "\n",
    "    def get_output(self):\n",
    "        self.output = sigmoid(self.input_sum)\n",
    "        return self.output\n",
    "\n",
    "    def reset(self):\n",
    "        self.input_sum = 0\n",
    "        self.output = 0\n",
    "\n",
    "# ニューラルネットワーク\n",
    "class NeuralNetwork:\n",
    "    def __init__(self):  # 初期設定\n",
    "        # 重み（変更しない）\n",
    "        self.w_im = [[4.0, 4.0], [4.0, 4.0], [4.0, 4.0]]  # 入力:2 ニューロン数:3\n",
    "        self.w_mo = [[1.0, -1.0, 1.0]]  # 入力:3 ニューロン数:1\n",
    "\n",
    "        # バイアス（変更しない）\n",
    "        self.b_m = [3.0, 0.0, -3.0]  # ニューロン数:3\n",
    "        self.b_o = [-0.5]  # ニューロン数:1\n",
    "\n",
    "        # 各層の宣言\n",
    "        self.input_layer = [0.0, 0.0]\n",
    "        self.middle_layer = [Neuron(), Neuron(), Neuron()]\n",
    "        self.output_layer = [Neuron()]\n",
    "\n",
    "    def commit(self, input_data):  # 実行\n",
    "        # 各層のリセット\n",
    "        self.input_layer[0] = input_data[0]  # 入力層は値を受け取るのみ\n",
    "        self.input_layer[1] = input_data[1]\n",
    "        self.middle_layer[0].reset()\n",
    "        self.middle_layer[1].reset()\n",
    "        self.middle_layer[2].reset()\n",
    "        self.output_layer[0].reset()\n",
    "\n",
    "        # 入力層→中間層\n",
    "        self.middle_layer[0].set_input(self.input_layer[0] * self.w_im[0][0])\n",
    "        self.middle_layer[0].set_input(self.input_layer[1] * self.w_im[0][1])\n",
    "        self.middle_layer[0].set_input(self.b_m[0])\n",
    "\n",
    "        self.middle_layer[1].set_input(self.input_layer[0] * self.w_im[1][0])\n",
    "        self.middle_layer[1].set_input(self.input_layer[1] * self.w_im[1][1])\n",
    "        self.middle_layer[1].set_input(self.b_m[1])\n",
    "        \n",
    "        self.middle_layer[2].set_input(self.input_layer[0] * self.w_im[2][0])\n",
    "        self.middle_layer[2].set_input(self.input_layer[1] * self.w_im[2][1])\n",
    "        self.middle_layer[2].set_input(self.b_m[2])\n",
    "\n",
    "        # 中間層→出力層\n",
    "        self.output_layer[0].set_input(self.middle_layer[0].get_output() * self.w_mo[0][0])\n",
    "        self.output_layer[0].set_input(self.middle_layer[1].get_output() * self.w_mo[0][1])\n",
    "        self.output_layer[0].set_input(self.middle_layer[2].get_output() * self.w_mo[0][2])\n",
    "        self.output_layer[0].set_input(self.b_o[0])\n",
    "\n",
    "        return self.output_layer[0].get_output()\n",
    "\n",
    "# ニューラルネットワークのインスタンス\n",
    "neural_network = NeuralNetwork()\n",
    "\n",
    "# 実行\n",
    "st_predicted = [[], []]  # Setosa\n",
    "vc_predicted = [[], []]  # Versicolor\n",
    "for data in input_data:\n",
    "    if neural_network.commit(data) < 0.5:\n",
    "        st_predicted[0].append(data[0]+sl_ave)\n",
    "        st_predicted[1].append(data[1]+sw_ave)\n",
    "    else:\n",
    "        vc_predicted[0].append(data[0]+sl_ave)\n",
    "        vc_predicted[1].append(data[1]+sw_ave)\n",
    "\n",
    "# 分類結果をグラフ表示\n",
    "plt.scatter(st_predicted[0], st_predicted[1], label=\"Setosa\")\n",
    "plt.scatter(vc_predicted[0], vc_predicted[1], label=\"Versicolor\")\n",
    "plt.legend()\n",
    "\n",
    "plt.xlabel(\"Sepal length (cm)\")\n",
    "plt.ylabel(\"Sepal width (cm)\")\n",
    "plt.title(\"Predicted\")\n",
    "plt.show()"
   ]
  },
  {
   "cell_type": "markdown",
   "metadata": {
    "colab_type": "text",
    "id": "zexEztI4o6VG"
   },
   "source": [
    "## 解答例\n",
    "以下は解答例です。どうしても手がかりがつかめないときのみ参考にしましょう。"
   ]
  },
  {
   "cell_type": "code",
   "execution_count": 2,
   "metadata": {
    "colab": {},
    "colab_type": "code",
    "id": "79KYyBHhwFc2"
   },
   "outputs": [
    {
     "data": {
      "image/png": "[encoded data removed]",
      "text/plain": [
       "<Figure size 432x288 with 1 Axes>"
      ]
     },
     "metadata": {
      "needs_background": "light"
     },
     "output_type": "display_data"
    }
   ],
   "source": [
    "import numpy as np\n",
    "import matplotlib.pyplot as plt\n",
    "from sklearn import datasets\n",
    "\n",
    "iris = datasets.load_iris()\n",
    "iris_data = iris.data\n",
    "sl_data = iris_data[:100, 0] # SetosaとVersicolor、Sepal length\n",
    "sw_data = iris_data[:100, 1] # SetosaとVersicolor、Sepal width\n",
    "\n",
    "# 平均値を0に\n",
    "sl_ave = np.average(sl_data)  # 平均値\n",
    "sl_data -= sl_ave  # 平均値を引く\n",
    "sw_ave = np.average(sw_data)\n",
    "sw_data -= sw_ave\n",
    "\n",
    "# 入力をリストに格納\n",
    "input_data = []\n",
    "for i in range(100):  # iには0から99までが入る\n",
    "    input_data.append([sl_data[i], sw_data[i]])\n",
    "\n",
    "# シグモイド関数\n",
    "def sigmoid(x):\n",
    "    return 1.0 / (1.0 + np.exp(-x))\n",
    "\n",
    "# ニューロン\n",
    "class Neuron:\n",
    "    def __init__(self):  # 初期設定\n",
    "        self.input_sum = 0.0\n",
    "        self.output = 0.0\n",
    "\n",
    "    def set_input(self, inp):\n",
    "        self.input_sum += inp\n",
    "\n",
    "    def get_output(self):\n",
    "        self.output = sigmoid(self.input_sum)\n",
    "        return self.output\n",
    "\n",
    "    def reset(self):\n",
    "        self.input_sum = 0\n",
    "        self.output = 0\n",
    "\n",
    "# ニューラルネットワーク\n",
    "class NeuralNetwork:\n",
    "    def __init__(self):  # 初期設定\n",
    "        # 重み（変更しない）\n",
    "        self.w_im = [[4.0, 4.0], [4.0, 4.0], [4.0, 4.0]]  # 入力:2 ニューロン数:3\n",
    "        self.w_mo = [[1.0, -1.0, 1.0]]  # 入力:2 ニューロン数:1\n",
    "\n",
    "        # バイアス（変更しない）\n",
    "        self.b_m = [3.0, 0.0, -3.0]  # ニューロン数:2\n",
    "        self.b_o = [-0.5]  # ニューロン数:1\n",
    "\n",
    "        # 各層の宣言\n",
    "        self.input_layer = [0.0, 0.0]\n",
    "        self.middle_layer = [Neuron(), Neuron(), Neuron()]\n",
    "        self.output_layer = [Neuron()]\n",
    "\n",
    "    def commit(self, input_data):  # 実行\n",
    "        # 各層のリセット\n",
    "        self.input_layer[0] = input_data[0]  # 入力層は値を受け取るのみ\n",
    "        self.input_layer[1] = input_data[1]\n",
    "        self.middle_layer[0].reset()\n",
    "        self.middle_layer[1].reset()\n",
    "        self.middle_layer[2].reset()\n",
    "        self.output_layer[0].reset()\n",
    "\n",
    "        # 入力層→中間層\n",
    "        self.middle_layer[0].set_input(self.input_layer[0] * self.w_im[0][0])\n",
    "        self.middle_layer[0].set_input(self.input_layer[1] * self.w_im[0][1])\n",
    "        self.middle_layer[0].set_input(self.b_m[0])\n",
    "\n",
    "        self.middle_layer[1].set_input(self.input_layer[0] * self.w_im[1][0])\n",
    "        self.middle_layer[1].set_input(self.input_layer[1] * self.w_im[1][1])\n",
    "        self.middle_layer[1].set_input(self.b_m[1])\n",
    "\n",
    "        self.middle_layer[2].set_input(self.input_layer[0] * self.w_im[2][0])\n",
    "        self.middle_layer[2].set_input(self.input_layer[1] * self.w_im[2][1])\n",
    "        self.middle_layer[2].set_input(self.b_m[2])\n",
    "\n",
    "        # 中間層→出力層\n",
    "        self.output_layer[0].set_input(self.middle_layer[0].get_output() * self.w_mo[0][0])\n",
    "        self.output_layer[0].set_input(self.middle_layer[1].get_output() * self.w_mo[0][1])\n",
    "        self.output_layer[0].set_input(self.middle_layer[2].get_output() * self.w_mo[0][2])\n",
    "        self.output_layer[0].set_input(self.b_o[0])\n",
    "\n",
    "        return self.output_layer[0].get_output()\n",
    "\n",
    "# ニューラルネットワークのインスタンス\n",
    "neural_network = NeuralNetwork()\n",
    "\n",
    "# 実行\n",
    "st_predicted = [[], []]  # Setosa\n",
    "vc_predicted = [[], []]  # Versicolor\n",
    "for data in input_data:\n",
    "    if neural_network.commit(data) < 0.5:\n",
    "        st_predicted[0].append(data[0]+sl_ave)\n",
    "        st_predicted[1].append(data[1]+sw_ave)\n",
    "    else:\n",
    "        vc_predicted[0].append(data[0]+sl_ave)\n",
    "        vc_predicted[1].append(data[1]+sw_ave)\n",
    "\n",
    "# 分類結果をグラフ表示\n",
    "plt.scatter(st_predicted[0], st_predicted[1], label=\"Setosa\")\n",
    "plt.scatter(vc_predicted[0], vc_predicted[1], label=\"Versicolor\")\n",
    "plt.legend()\n",
    "\n",
    "plt.xlabel(\"Sepal length (cm)\")\n",
    "plt.ylabel(\"Sepal width (cm)\")\n",
    "plt.title(\"Predicted\")\n",
    "plt.show()"
   ]
  },
  {
   "cell_type": "code",
   "execution_count": null,
   "metadata": {},
   "outputs": [],
   "source": []
  }
 ],
 "metadata": {
  "colab": {
   "authorship_tag": "ABX9TyNk/UjvIZPpC9hE67Oxguzr",
   "collapsed_sections": [],
   "include_colab_link": true,
   "name": "exercise.ipynb",
   "provenance": []
  },
  "kernelspec": {
   "display_name": "Python 3",
   "language": "python",
   "name": "python3"
  },
  "language_info": {
   "codemirror_mode": {
    "name": "ipython",
    "version": 3
   },
   "file_extension": ".py",
   "mimetype": "text/x-python",
   "name": "python",
   "nbconvert_exporter": "python",
   "pygments_lexer": "ipython3",
   "version": "3.8.5"
  }
 },
 "nbformat": 4,
 "nbformat_minor": 1
}

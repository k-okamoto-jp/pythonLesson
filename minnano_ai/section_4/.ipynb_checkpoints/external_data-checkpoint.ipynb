{
 "cells": [
  {
   "cell_type": "markdown",
   "metadata": {
    "colab_type": "text",
    "id": "view-in-github"
   },
   "source": [
    "<a href=\"https://colab.research.google.com/github/yukinaga/minnano_ai/blob/master/section_4/external_data.ipynb\" target=\"_parent\"><img src=\"https://colab.research.google.com/assets/colab-badge.svg\" alt=\"Open In Colab\"/></a>"
   ]
  },
  {
   "cell_type": "markdown",
   "metadata": {
    "colab_type": "text",
    "id": "q8VKWEYymLHP"
   },
   "source": [
    "# 外部データの導入\n",
    "外部から、花のサイズのデータを読み込みます。  \n",
    "単一ニューロンを使って、花の分類を行いましょう。  "
   ]
  },
  {
   "cell_type": "markdown",
   "metadata": {
    "colab_type": "text",
    "id": "xZ_Ah4jbpW3b"
   },
   "source": [
    "## ● Iris datasetの導入\n",
    "scikit-learnというライブラリからIris datasetを導入します。  \n",
    "Iris datasetは、150個、3品種のIrisの花のサイズからなるデータセットです。  \n",
    "今回は、この中の2品種、SetosaとVersicolorのがく（Sepal）の長さと幅を使います。  "
   ]
  },
  {
   "cell_type": "code",
   "execution_count": 1,
   "metadata": {
    "colab": {},
    "colab_type": "code",
    "id": "Ln7D1pxbr8Hc"
   },
   "outputs": [
    {
     "data": {
      "image/png": "[encoded data removed]",
      "text/plain": [
       "<Figure size 432x288 with 1 Axes>"
      ]
     },
     "metadata": {
      "needs_background": "light"
     },
     "output_type": "display_data"
    }
   ],
   "source": [
    "import numpy as np\n",
    "import matplotlib.pyplot as plt\n",
    "from sklearn import datasets\n",
    "\n",
    "# Irisデータの読み込み\n",
    "iris = datasets.load_iris()\n",
    "\n",
    "# 各花のサイズ\n",
    "iris_data = iris.data\n",
    "# print(iris_data)\n",
    "# print(iris_data.shape)  # 形状\n",
    "\n",
    "# 散布図で表示\n",
    "st_data = iris_data[:50]  # Setosa\n",
    "vc_data = iris_data[50:100]  # Versicolor\n",
    "plt.scatter(st_data[:, 0], st_data[:, 1], label=\"Setosa\")  # Sepal lengthとSepal width\n",
    "plt.scatter(vc_data[:, 0], vc_data[:, 1], label=\"Versicolor\")  # Sepal lengthとSepal width\n",
    "plt.legend()\n",
    "\n",
    "plt.xlabel(\"Sepal length (cm)\")\n",
    "plt.ylabel(\"Sepal width (cm)\")\n",
    "plt.show()"
   ]
  },
  {
   "cell_type": "code",
   "execution_count": null,
   "metadata": {
    "colab": {},
    "colab_type": "code",
    "id": "CgNNnb_Jvwot"
   },
   "outputs": [],
   "source": [
    "# コードの練習用\n"
   ]
  },
  {
   "cell_type": "markdown",
   "metadata": {
    "colab_type": "text",
    "id": "Q-goGGeCpWFC"
   },
   "source": [
    "## ● 単一ニューロンによる分類\n",
    "単一ニューロンからなるニューラルネットワークを使って、Irisの花を2品種に分類します。  \n",
    "ニューラルネットワークの入力は偏りが無い方が望ましいため、花のサイズから平均値を引いて入力とします。  \n",
    "分類結果を散布図で表示しますが、比較のために元の分類も並べて表示します。  "
   ]
  },
  {
   "cell_type": "code",
   "execution_count": null,
   "metadata": {
    "colab": {},
    "colab_type": "code",
    "id": "u2ddL3SOiK-s"
   },
   "outputs": [],
   "source": [
    "import numpy as np\n",
    "import matplotlib.pyplot as plt\n",
    "from sklearn import datasets\n",
    "\n",
    "iris = datasets.load_iris()\n",
    "iris_data = iris.data\n",
    "sl_data = iris_data[:100, 0] # SetosaとVersicolor、Sepal length\n",
    "sw_data = iris_data[:100, 1] # SetosaとVersicolor、Sepal width\n",
    "\n",
    "# 平均値を0に\n",
    "sl_ave = np.average(sl_data)  # 平均値\n",
    "sl_data -= sl_ave  # 平均値を引く\n",
    "sw_ave = np.average(sw_data)\n",
    "sw_data -= sw_ave\n",
    "\n",
    "# 入力をリストに格納\n",
    "input_data = []\n",
    "for i in range(100):  # iには0から99までが入る\n",
    "    input_data.append([sl_data[i], sw_data[i]])\n",
    "\n",
    "# シグモイド関数\n",
    "def sigmoid(x):\n",
    "    return 1.0 / (1.0 + np.exp(-x))\n",
    "\n",
    "# ニューロン\n",
    "class Neuron:\n",
    "    def __init__(self):  # 初期設定\n",
    "        self.input_sum = 0.0\n",
    "        self.output = 0.0\n",
    "\n",
    "    def set_input(self, inp):\n",
    "        self.input_sum += inp\n",
    "\n",
    "    def get_output(self):\n",
    "        self.output = sigmoid(self.input_sum)\n",
    "        return self.output\n",
    "\n",
    "    def reset(self):\n",
    "        self.input_sum = 0\n",
    "        self.output = 0\n",
    "\n",
    "# ニューラルネットワーク\n",
    "class NeuralNetwork:\n",
    "    def __init__(self):  # 初期設定\n",
    "        self.neuron = Neuron()  #ニューロンのインスタンス\n",
    "        self.w = [0.5, -0.2]\n",
    "        self.bias = 0.0\n",
    "\n",
    "    def commit(self, input_data):  # 実行\n",
    "        self.neuron.reset()\n",
    "\n",
    "        self.neuron.set_input(input_data[0] * self.w[0])\n",
    "        self.neuron.set_input(input_data[1] * self.w[1])\n",
    "        self.neuron.set_input(self.bias)\n",
    "        return self.neuron.get_output()\n",
    "\n",
    "# ニューラルネットワークのインスタンス\n",
    "neural_network = NeuralNetwork()\n",
    "\n",
    "# 実行\n",
    "st_predicted = [[], []]  # Setosa\n",
    "vc_predicted = [[], []]  # Versicolor\n",
    "for data in input_data:\n",
    "    if neural_network.commit(data) < 0.5:\n",
    "        st_predicted[0].append(data[0]+sl_ave)\n",
    "        st_predicted[1].append(data[1]+sw_ave)\n",
    "    else:\n",
    "        vc_predicted[0].append(data[0]+sl_ave)\n",
    "        vc_predicted[1].append(data[1]+sw_ave)\n",
    "\n",
    "# 分類結果を散布図で表示\n",
    "plt.scatter(st_predicted[0], st_predicted[1], label=\"Setosa\")\n",
    "plt.scatter(vc_predicted[0], vc_predicted[1], label=\"Versicolor\")\n",
    "plt.legend()\n",
    "\n",
    "plt.xlabel(\"Sepal length (cm)\")\n",
    "plt.ylabel(\"Sepal width (cm)\")\n",
    "plt.title(\"Predicted\")\n",
    "plt.show()\n",
    "\n",
    "# 比較用に元の分類を散布図で表示\n",
    "st_data = iris_data[:50]  # Setosa\n",
    "vc_data = iris_data[50:100]  # Versicolor\n",
    "plt.scatter(st_data[:, 0], st_data[:, 1], label=\"Setosa\")\n",
    "plt.scatter(vc_data[:, 0], vc_data[:, 1], label=\"Versicolor\")\n",
    "plt.legend()\n",
    "\n",
    "plt.xlabel(\"Sepal length (cm)\")\n",
    "plt.ylabel(\"Sepal width (cm)\")\n",
    "plt.title(\"Original\")\n",
    "plt.show()"
   ]
  },
  {
   "cell_type": "code",
   "execution_count": null,
   "metadata": {
    "colab": {},
    "colab_type": "code",
    "id": "IViI2u-4iQZ3"
   },
   "outputs": [],
   "source": [
    "# コードの練習用\n"
   ]
  }
 ],
 "metadata": {
  "colab": {
   "authorship_tag": "ABX9TyNdmZxPhwK0rvvIq4kRVfWA",
   "collapsed_sections": [],
   "include_colab_link": true,
   "name": "external_data.ipynb",
   "provenance": []
  },
  "kernelspec": {
   "display_name": "Python 3",
   "language": "python",
   "name": "python3"
  },
  "language_info": {
   "codemirror_mode": {
    "name": "ipython",
    "version": 3
   },
   "file_extension": ".py",
   "mimetype": "text/x-python",
   "name": "python",
   "nbconvert_exporter": "python",
   "pygments_lexer": "ipython3",
   "version": "3.8.5"
  }
 },
 "nbformat": 4,
 "nbformat_minor": 1
}
